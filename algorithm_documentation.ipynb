{
  "cells": [
    {
      "cell_type": "code",
      "execution_count": null,
      "metadata": {
        "id": "PwcPFB386x5z",
        "scrolled": false
      },
      "outputs": [],
      "source": [
        "from random import randint\n",
        "from math import sqrt\n",
        "import scipy.stats as st\n",
        "import matplotlib.pyplot as plt\n",
        "import numpy as np"
      ]
    },
    {
      "cell_type": "markdown",
      "metadata": {
        "id": "YAinuzPL8oly"
      },
      "source": [
        "#### Create normally distributed sample with parameters $\\mu = 2, \\sigma = 7$\n",
        "\n",
        "\n",
        "\n"
      ]
    },
    {
      "cell_type": "code",
      "execution_count": null,
      "metadata": {
        "id": "d7yW4s1v79xa"
      },
      "outputs": [],
      "source": [
        "W = st.norm(2,7)\n",
        "X = W.rvs(size=20000)"
      ]
    },
    {
      "cell_type": "code",
      "execution_count": null,
      "metadata": {
        "colab": {
          "base_uri": "https://localhost:8080/"
        },
        "id": "YT_OhZW9OWkx",
        "outputId": "22c28934-3304-4ee3-9b6b-de41215d0069"
      },
      "outputs": [
        {
          "data": {
            "text/plain": [
              "array([  2.57507309,  -8.31634145,   6.35990358, ...,   8.0748093 ,\n",
              "       -12.71109677,   7.54867633])"
            ]
          },
          "execution_count": 24,
          "metadata": {},
          "output_type": "execute_result"
        }
      ],
      "source": [
        "X"
      ]
    },
    {
      "cell_type": "markdown",
      "metadata": {
        "id": "CzFXu8BR-Ay4"
      },
      "source": [
        "#### Let $m$ be a randomly selected natural number from $[1, n]$. Then suppose that: $Am=\\dfrac{1}{n+\\sqrt{n}}\\sum ^{n}_{i=1}X_{i}-\\dfrac{1}{1+\\sqrt{n}}X_{m}$"
      ]
    },
    {
      "cell_type": "code",
      "execution_count": null,
      "metadata": {
        "id": "rAWx5nIP9IYm"
      },
      "outputs": [],
      "source": [
        "n = len(X) \n",
        "m = randint(0,n-1) \n",
        "Xm = X[m]\n",
        "Am = np.sum(X) / (n + sqrt(n)) - Xm/(1+sqrt(n))"
      ]
    },
    {
      "cell_type": "code",
      "execution_count": null,
      "metadata": {
        "colab": {
          "base_uri": "https://localhost:8080/"
        },
        "id": "3BWATA34OWk0",
        "outputId": "2b5bddb7-9f68-4e5b-a77e-33f7143abaac"
      },
      "outputs": [
        {
          "data": {
            "text/plain": [
              "1.9208903225894802"
            ]
          },
          "execution_count": 6,
          "metadata": {},
          "output_type": "execute_result"
        }
      ],
      "source": [
        "Am"
      ]
    },
    {
      "cell_type": "markdown",
      "metadata": {
        "id": "kKuOSBSq_TP4"
      },
      "source": [
        "#### Let $Y_j$ be a new random variable with the following distribution: $Y_{j}=\\begin{cases}X_{j}-Am,j=1,..,m-1;\\\\ X_{j+1}-Am,j=m,..,n-1\\end{cases}$"
      ]
    },
    {
      "cell_type": "code",
      "execution_count": null,
      "metadata": {
        "id": "cq04IGbZAS8h"
      },
      "outputs": [],
      "source": [
        "Yj = [X[j] - Am if j < m - 1 else X[j+1] - Am for j in range(n-1)]"
      ]
    },
    {
      "cell_type": "code",
      "execution_count": null,
      "metadata": {
        "colab": {
          "base_uri": "https://localhost:8080/"
        },
        "id": "9JAvZnQYOWk2",
        "outputId": "895fd6df-d780-43ef-d782-651b51e268c9"
      },
      "outputs": [
        {
          "data": {
            "text/plain": [
              "array([  0.65418277, -10.23723178,   4.43901326, ...,   6.15391898,\n",
              "       -14.63198709,   5.62778601])"
            ]
          },
          "execution_count": 8,
          "metadata": {},
          "output_type": "execute_result"
        }
      ],
      "source": [
        "np.array(Yj)"
      ]
    },
    {
      "cell_type": "markdown",
      "metadata": {
        "id": "tmN-YFohAuPj"
      },
      "source": [
        "#### Moving from random variable $X$ to $Yj$ allows us to eliminate parameter $\\mu$. The next step will be checking if $Yj$ in fact follows normal distribution with parameters $\\mu = 0, \\sigma = 7$. This will be done in two ways:\n",
        "* Overlaying $PDF$ of $N(0,7)$ over the histogram with $Y_j$ distribution\n",
        "* Using Shapiro-Wilk test for normality"
      ]
    },
    {
      "cell_type": "code",
      "execution_count": null,
      "metadata": {
        "colab": {
          "base_uri": "https://localhost:8080/",
          "height": 265
        },
        "id": "UrBZldj8BAjV",
        "outputId": "8bfc9c14-dc5d-4187-a64f-4e693883b282"
      },
      "outputs": [
        {
          "data": {
            "image/png": "[encoded data removed]",
            "text/plain": [
              "<Figure size 432x288 with 1 Axes>"
            ]
          },
          "metadata": {
            "needs_background": "light"
          },
          "output_type": "display_data"
        }
      ],
      "source": [
        "# Overlaying PDF of N(0,7) over the histogram of Y_j distribution\n",
        "\n",
        "W1 = st.norm(0,7)\n",
        "z = np.linspace(-21,21,1000)\n",
        "y = W1.pdf(z)\n",
        "plt.plot(z,y)\n",
        "plt.hist(Yj, bins=50, density=True, edgecolor='black')\n",
        "plt.show()"
      ]
    },
    {
      "cell_type": "code",
      "execution_count": null,
      "metadata": {
        "colab": {
          "base_uri": "https://localhost:8080/"
        },
        "id": "ut2sO970CeVX",
        "outputId": "a0424b8b-a322-46b6-83cc-6ed8ee78a528"
      },
      "outputs": [
        {
          "name": "stderr",
          "output_type": "stream",
          "text": [
            "/usr/local/lib/python3.7/dist-packages/scipy/stats/morestats.py:1676: UserWarning: p-value may not be accurate for N > 5000.\n",
            "  warnings.warn(\"p-value may not be accurate for N > 5000.\")\n"
          ]
        },
        {
          "data": {
            "text/plain": [
              "(0.9999418258666992, 0.9624379277229309)"
            ]
          },
          "execution_count": 10,
          "metadata": {},
          "output_type": "execute_result"
        }
      ],
      "source": [
        "# Shapiro-Wilk test\n",
        "\n",
        "st.shapiro(Yj)"
      ]
    },
    {
      "cell_type": "markdown",
      "metadata": {
        "id": "hfNt8cyKCQ62"
      },
      "source": [
        "#### Elimination of parameter $σ$ will then be done by creating a new variable: \n",
        "$Z_{k}=Y_{k} / \\sqrt{B_{k}}$, where $B_{k}=\\frac{1}{n-k-1} \\sum_{j=k+1}^{n-1} Y_{j}^{2}, k=1, \\ldots, n-2 .$\n",
        "\n",
        "\n"
      ]
    },
    {
      "cell_type": "code",
      "execution_count": null,
      "metadata": {
        "id": "wARSctDVFO_X"
      },
      "outputs": [],
      "source": [
        "Bk = [1 / (n - k - 1) * sum(list(map(lambda x: x**2, Yj[k:n-2]))) for k in range(n-2)]\n",
        "Zk = [Yj[k] / sqrt(Bk[k]) for k in range(n-2)]"
      ]
    },
    {
      "cell_type": "code",
      "execution_count": null,
      "metadata": {
        "colab": {
          "base_uri": "https://localhost:8080/"
        },
        "id": "KvZJY1QXOWk5",
        "outputId": "5e7a78a8-9489-4d57-a319-6d931daa96d5"
      },
      "outputs": [
        {
          "data": {
            "text/plain": [
              "array([ 0.09394802, -1.47014545,  0.63749506, ...,  0.46613058,\n",
              "        0.67149322, -1.41421356])"
            ]
          },
          "execution_count": 12,
          "metadata": {},
          "output_type": "execute_result"
        }
      ],
      "source": [
        "np.array(Zk)"
      ]
    },
    {
      "cell_type": "markdown",
      "metadata": {
        "id": "y2FtDdGBFs40"
      },
      "source": [
        "#### Let $F_k$ be a $CDF$ of $F_{n-k-1}(Z_k)$, which follows Student distribution $t_{n-k-1}$. If null hypothesis is correct, then $F_k$ should be independent and uniformly distributed on segment $[0,1]$. We will check it in two ways:\n",
        "* Overlaying $PDF$ of $U([0,1])$ over the histogram with $F_k$ distribution\n",
        "* Using Kolmogorov-Smirnov and chi-square tests"
      ]
    },
    {
      "cell_type": "code",
      "execution_count": null,
      "metadata": {
        "id": "EuAitjp7F12N"
      },
      "outputs": [],
      "source": [
        "Fk = np.array([st.t.cdf(x=Zk[k],df=n-(k+1)-1) for k in range(len(Zk))])"
      ]
    },
    {
      "cell_type": "code",
      "execution_count": null,
      "metadata": {
        "colab": {
          "base_uri": "https://localhost:8080/"
        },
        "id": "l3X4CdV5OWk6",
        "outputId": "f8f69e69-da28-4674-a7f3-686b4902e5f0"
      },
      "outputs": [
        {
          "data": {
            "text/plain": [
              "array([0.53742431, 0.07076905, 0.73809514, ..., 0.66355961, 0.71446112,\n",
              "       0.19591328])"
            ]
          },
          "execution_count": 14,
          "metadata": {},
          "output_type": "execute_result"
        }
      ],
      "source": [
        "Fk"
      ]
    },
    {
      "cell_type": "code",
      "execution_count": null,
      "metadata": {
        "colab": {
          "base_uri": "https://localhost:8080/",
          "height": 265
        },
        "id": "b6mYZJl9GSgY",
        "outputId": "67732c59-df10-44c9-ae64-367297c87d5c",
        "scrolled": true
      },
      "outputs": [
        {
          "data": {
            "image/png": "[encoded data removed]",
            "text/plain": [
              "<Figure size 432x288 with 1 Axes>"
            ]
          },
          "metadata": {
            "needs_background": "light"
          },
          "output_type": "display_data"
        }
      ],
      "source": [
        "# Overlaying PDF of U([0,1]) over the histogram of F_k distribution\n",
        "\n",
        "W2 = st.uniform()\n",
        "z = np.linspace(0,1,1000)\n",
        "y = W2.pdf(z)\n",
        "plt.plot(z,y)\n",
        "plt.hist(Fk, bins=50, density=True, edgecolor='black')\n",
        "plt.show()"
      ]
    },
    {
      "cell_type": "code",
      "execution_count": null,
      "metadata": {
        "colab": {
          "base_uri": "https://localhost:8080/"
        },
        "id": "PiwqXuEWG6aU",
        "outputId": "6f4cad53-2fd5-4d4e-ad76-7615cc9fc941"
      },
      "outputs": [
        {
          "data": {
            "text/plain": [
              "KstestResult(statistic=0.003549961678092295, pvalue=0.9626416156745609)"
            ]
          },
          "execution_count": 18,
          "metadata": {},
          "output_type": "execute_result"
        }
      ],
      "source": [
        "# Kolmogorov-Smirnov test for uniform distribution\n",
        "\n",
        "st.kstest(Fk, 'uniform', args=(0, 1))"
      ]
    },
    {
      "cell_type": "code",
      "execution_count": null,
      "metadata": {
        "colab": {
          "base_uri": "https://localhost:8080/"
        },
        "id": "dVG4JhLROWk8",
        "outputId": "3dc29030-e2f7-4f7e-99f9-4fc49cee76ca",
        "scrolled": true
      },
      "outputs": [
        {
          "data": {
            "text/plain": [
              "Power_divergenceResult(statistic=3342.4016839312735, pvalue=1.0)"
            ]
          },
          "execution_count": 19,
          "metadata": {},
          "output_type": "execute_result"
        }
      ],
      "source": [
        "# Chi-square test for uniform distribution\n",
        "\n",
        "st.chisquare(Fk)"
      ]
    },
    {
      "cell_type": "markdown",
      "metadata": {
        "id": "E-pM-0uCOWk8"
      },
      "source": [
        "#### All above-mentioned steps make up ${Parameter\\space Elimination\\space Method\\space (PEM)}$ test for normality:"
      ]
    },
    {
      "cell_type": "code",
      "execution_count": null,
      "metadata": {
        "id": "6hog4rIaOWk9"
      },
      "outputs": [],
      "source": [
        "def pem_test(X: list):\n",
        "  \"\"\"\n",
        "    pem_test(X) carries out a test for normality based on Parameter Elimination Method\n",
        "\n",
        "    :param: X - sample for testing the method on\n",
        "\n",
        "    :returns: dictionary with test statistic ('stat') and p-value ('pvalue')\n",
        "  \"\"\"\n",
        "  n = len(X) \n",
        "  m = randint(0,n-1) \n",
        "  Xm = X[m]\n",
        "  Am = np.sum(X) / (n + sqrt(n)) - Xm/(1+sqrt(n))\n",
        "  Yj = [X[j] - Am if j < m - 1 else X[j+1] - Am for j in range(n-1)]\n",
        "  Bk = [1 / (n - k - 1) * sum(list(map(lambda x: x**2, Yj[k:n-2]))) for k in range(n-2)]\n",
        "  Zk = [Yj[k] / sqrt(Bk[k]) for k in range(n-2)]\n",
        "  Fk = np.array([st.t.cdf(x=Zk[k],df=n-(k+1)-1) for k in range(len(Zk))])\n",
        "  ks_test = st.kstest(Fk, 'uniform', args=(0, 1))\n",
        "  return {'stat': ks_test[0], 'pvalue': ks_test[1]}"
      ]
    },
    {
      "cell_type": "markdown",
      "metadata": {
        "id": "FgoZd5EyOWk9"
      },
      "source": [
        "#### Performing $PEM$ test on normally distributed $X$ sample"
      ]
    },
    {
      "cell_type": "code",
      "execution_count": null,
      "metadata": {
        "colab": {
          "base_uri": "https://localhost:8080/"
        },
        "id": "1oqRI32UOWk9",
        "outputId": "34e1f15d-286c-40fc-f49c-c9d6f0f286eb"
      },
      "outputs": [
        {
          "data": {
            "text/plain": [
              "{'pvalue': 0.33730529232864115, 'stat': 0.0066618550455152525}"
            ]
          },
          "execution_count": 21,
          "metadata": {},
          "output_type": "execute_result"
        }
      ],
      "source": [
        "pem_test(X)"
      ]
    }
  ],
  "metadata": {
    "colab": {
      "name": "algorithm_documentation.ipynb",
      "provenance": []
    },
    "kernelspec": {
      "display_name": "Python 3 (ipykernel)",
      "language": "python",
      "name": "python3"
    },
    "language_info": {
      "codemirror_mode": {
        "name": "ipython",
        "version": 3
      },
      "file_extension": ".py",
      "mimetype": "text/x-python",
      "name": "python",
      "nbconvert_exporter": "python",
      "pygments_lexer": "ipython3",
      "version": "3.10.4"
    }
  },
  "nbformat": 4,
  "nbformat_minor": 0
}
